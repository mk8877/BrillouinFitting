{
 "cells": [
  {
   "cell_type": "code",
   "execution_count": null,
   "metadata": {},
   "outputs": [],
   "source": [
    "from numpy import *\n",
    "\n",
    "def LLG_inplane(omega,alpha1,alpha2,M1s,M2s,gamma1,gamma2,lamb,H1u,H2u,Ho):\n",
    "    X = (gamma1**2+gamma2**2)*Ho**2 - 2*Ho*lamb(gamma2**2*M1s - gamma1**2*M2s)-Ho(gamma1**2*H1u - gamma2**2*H2u) + 4*pi*Ho(gamma1**2*M1s - gamma2**2*M2s) + lamb**2(gamma2*M1s - gamma1*M2s)**2 "
   ]
  }
 ],
 "metadata": {
  "language_info": {
   "name": "python"
  },
  "orig_nbformat": 4
 },
 "nbformat": 4,
 "nbformat_minor": 2
}
