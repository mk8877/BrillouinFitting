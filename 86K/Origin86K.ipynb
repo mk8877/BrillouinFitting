{
 "cells": [
  {
   "attachments": {},
   "cell_type": "markdown",
   "metadata": {},
   "source": [
    "このプログラムではではoriginの制御を行います"
   ]
  },
  {
   "cell_type": "code",
   "execution_count": 5,
   "metadata": {},
   "outputs": [],
   "source": [
    "import originpro as op\n",
    "import pandas as pd\n",
    "import numpy as np\n",
    "from math import *\n",
    "#おまじない\n",
    "# Ensures that the Origin instance gets shut down properly.\n",
    "import sys\n",
    "def origin_shutdown_exception_hook(exctype, value, traceback):\n",
    "    op.exit()\n",
    "    sys.__excepthook__(exctype, value, traceback)\n",
    "if op and op.oext:\n",
    "    sys.excepthook = origin_shutdown_exception_hook\n",
    "\n",
    "\n",
    "# Set Origin instance visibility.\n",
    "if op.oext:\n",
    "    op.set_show(True)\n"
   ]
  },
  {
   "cell_type": "code",
   "execution_count": 6,
   "metadata": {},
   "outputs": [],
   "source": [
    "xmin = 19\n",
    "xmax = 180"
   ]
  },
  {
   "cell_type": "code",
   "execution_count": 7,
   "metadata": {},
   "outputs": [
    {
     "name": "stdout",
     "output_type": "stream",
     "text": [
      "FWHM =  2.09350951895391\n"
     ]
    },
    {
     "data": {
      "text/plain": [
       "(-5.0, 5.0, 100.0)"
      ]
     },
     "execution_count": 7,
     "metadata": {},
     "output_type": "execute_result"
    }
   ],
   "source": [
    "\n",
    "# YOUR CODE HERE\n",
    "#Book1を選択した状態で実行\n",
    "#open origin file\n",
    "op.open(file='C:/Users/mikku/OneDrive/デスクトップ/研究大学院/データ/MyFitting/data.opju')\n",
    "BrillouinData = op.find_sheet('w','[Book1]BrillouinData') #get sheet\n",
    "BrillouinData.name = 'BrillouinData'\n",
    "# fit by Gaussamp\n",
    "GaussFit = op.NLFit('Gaussamp')\n",
    "GaussFit.set_data(BrillouinData,0,1)\n",
    "GaussFit.fit()\n",
    "#GaussFit.param_box()                 #収束の確認\n",
    "GaussFit.report()                     #レポートの表示\n",
    "GaussData = op.find_sheet('w','[Book1]FitNLCurve1') #GaussFitのsheetを取得\n",
    "GaussData.name = 'GaussData'          #sheetの名前を変更\n",
    "param = GaussFit.result()             #各パラメーターの表示\n",
    "FWHM = param['FWHM']                  #FWHMの値を取得\n",
    "print('FWHM = ',FWHM)\n",
    "\n",
    "op.new_graph('GaussGraph')            #Gaussamp用のグラフを作成．[0],[1]がlayer\n",
    "GaussGraph = op.find_graph('GaussGraph')\n",
    "GaussGraph[0].add_plot(obj=BrillouinData,colx=0,coly=1)#add_plotはlayerに対してのobject\n",
    "GaussGraph[0].add_plot(obj=GaussData,colx=0,coly=1).color = 'red'\n",
    "GaussGraph[0].rescale()               #実際に描写する.必ずset_limの前に置く\n",
    "GaussGraph[0].set_xlim(-5,5)          #(min,max,メモリの刻み)を返す"
   ]
  },
  {
   "cell_type": "code",
   "execution_count": 8,
   "metadata": {},
   "outputs": [
    {
     "ename": "AttributeError",
     "evalue": "'NoneType' object has no attribute 'name'",
     "output_type": "error",
     "traceback": [
      "\u001b[1;31m---------------------------------------------------------------------------\u001b[0m",
      "\u001b[1;31mAttributeError\u001b[0m                            Traceback (most recent call last)",
      "\u001b[1;32mc:\\Users\\mikku\\OneDrive\\デスクトップ\\研究大学院\\データ\\MyFitting\\86K\\Origin86K.ipynb セル 5\u001b[0m in \u001b[0;36m4\n\u001b[0;32m      <a href='vscode-notebook-cell:/c%3A/Users/mikku/OneDrive/%E3%83%87%E3%82%B9%E3%82%AF%E3%83%88%E3%83%83%E3%83%97/%E7%A0%94%E7%A9%B6%E5%A4%A7%E5%AD%A6%E9%99%A2/%E3%83%87%E3%83%BC%E3%82%BF/MyFitting/86K/Origin86K.ipynb#W4sZmlsZQ%3D%3D?line=1'>2</a>\u001b[0m Book2 \u001b[39m=\u001b[39m op\u001b[39m.\u001b[39mnew_book(\u001b[39m'\u001b[39m\u001b[39mw\u001b[39m\u001b[39m'\u001b[39m,\u001b[39m'\u001b[39m\u001b[39mBook2\u001b[39m\u001b[39m'\u001b[39m)                       \u001b[39m#新しいbookを作成\u001b[39;00m\n\u001b[0;32m      <a href='vscode-notebook-cell:/c%3A/Users/mikku/OneDrive/%E3%83%87%E3%82%B9%E3%82%AF%E3%83%88%E3%83%83%E3%83%97/%E7%A0%94%E7%A9%B6%E5%A4%A7%E5%AD%A6%E9%99%A2/%E3%83%87%E3%83%BC%E3%82%BF/MyFitting/86K/Origin86K.ipynb#W4sZmlsZQ%3D%3D?line=2'>3</a>\u001b[0m Brillouin_lim \u001b[39m=\u001b[39m op\u001b[39m.\u001b[39mfind_sheet(\u001b[39m'\u001b[39m\u001b[39mw\u001b[39m\u001b[39m'\u001b[39m,\u001b[39m'\u001b[39m\u001b[39m[Book2]Sheet1\u001b[39m\u001b[39m'\u001b[39m)     \n\u001b[1;32m----> <a href='vscode-notebook-cell:/c%3A/Users/mikku/OneDrive/%E3%83%87%E3%82%B9%E3%82%AF%E3%83%88%E3%83%83%E3%83%97/%E7%A0%94%E7%A9%B6%E5%A4%A7%E5%AD%A6%E9%99%A2/%E3%83%87%E3%83%BC%E3%82%BF/MyFitting/86K/Origin86K.ipynb#W4sZmlsZQ%3D%3D?line=3'>4</a>\u001b[0m Brillouin_lim\u001b[39m.\u001b[39;49mname \u001b[39m=\u001b[39m \u001b[39m'\u001b[39m\u001b[39mBrillouin_lim\u001b[39m\u001b[39m'\u001b[39m\n\u001b[0;32m      <a href='vscode-notebook-cell:/c%3A/Users/mikku/OneDrive/%E3%83%87%E3%82%B9%E3%82%AF%E3%83%88%E3%83%83%E3%83%97/%E7%A0%94%E7%A9%B6%E5%A4%A7%E5%AD%A6%E9%99%A2/%E3%83%87%E3%83%BC%E3%82%BF/MyFitting/86K/Origin86K.ipynb#W4sZmlsZQ%3D%3D?line=5'>6</a>\u001b[0m df \u001b[39m=\u001b[39m BrillouinData\u001b[39m.\u001b[39mto_df()                             \u001b[39m#dfに変換\u001b[39;00m\n\u001b[0;32m      <a href='vscode-notebook-cell:/c%3A/Users/mikku/OneDrive/%E3%83%87%E3%82%B9%E3%82%AF%E3%83%88%E3%83%83%E3%83%97/%E7%A0%94%E7%A9%B6%E5%A4%A7%E5%AD%A6%E9%99%A2/%E3%83%87%E3%83%BC%E3%82%BF/MyFitting/86K/Origin86K.ipynb#W4sZmlsZQ%3D%3D?line=6'>7</a>\u001b[0m df \u001b[39m=\u001b[39m df[(df[\u001b[39m'\u001b[39m\u001b[39mA\u001b[39m\u001b[39m'\u001b[39m]\u001b[39m>\u001b[39mxmin) \u001b[39m&\u001b[39m (df[\u001b[39m'\u001b[39m\u001b[39mA\u001b[39m\u001b[39m'\u001b[39m]\u001b[39m<\u001b[39mxmax)]                  \u001b[39m#範囲を選択.&じゃないとダメみたい\u001b[39;00m\n",
      "\u001b[1;31mAttributeError\u001b[0m: 'NoneType' object has no attribute 'name'"
     ]
    }
   ],
   "source": [
    "#voigt関数でfitし，lorentz関数を抽出\n",
    "Book2 = op.new_book('w','Book2')                       #新しいbookを作成\n",
    "Brillouin_lim = op.find_sheet('w','[Book2]Sheet1')     \n",
    "Brillouin_lim.name = 'Brillouin_lim'\n",
    "\n",
    "df = BrillouinData.to_df()                             #dfに変換\n",
    "df = df[(df['A']>xmin) & (df['A']<xmax)]                  #範囲を選択.&じゃないとダメみたい\n",
    "Brillouin_lim.from_df(df)                              #dfをsheetに変換\n",
    "\n",
    "op.new_graph('VoigtGraph')                             #Voigt用のグラフを作成\n",
    "VoigtGraph = op.find_graph('VoigtGraph')\n",
    "VoigtGraph[0].add_plot(obj=Brillouin_lim,colx=0,coly=1)\n",
    "VoigtGraph[0].rescale()"
   ]
  },
  {
   "attachments": {},
   "cell_type": "markdown",
   "metadata": {},
   "source": [
    "######複数ピークフィットはできないので手動でvoigt関数でフィットしよう#########"
   ]
  },
  {
   "cell_type": "code",
   "execution_count": null,
   "metadata": {},
   "outputs": [
    {
     "ename": "OSError",
     "evalue": "Cannot save file into a non-existent directory: 'data'",
     "output_type": "error",
     "traceback": [
      "\u001b[1;31m---------------------------------------------------------------------------\u001b[0m",
      "\u001b[1;31mOSError\u001b[0m                                   Traceback (most recent call last)",
      "\u001b[1;32mc:\\Users\\mikku\\OneDrive\\デスクトップ\\研究大学院\\データ\\MyFitting\\86K\\Origin86K.ipynb セル 7\u001b[0m in \u001b[0;36m1\n\u001b[0;32m     <a href='vscode-notebook-cell:/c%3A/Users/mikku/OneDrive/%E3%83%87%E3%82%B9%E3%82%AF%E3%83%88%E3%83%83%E3%83%97/%E7%A0%94%E7%A9%B6%E5%A4%A7%E5%AD%A6%E9%99%A2/%E3%83%87%E3%83%BC%E3%82%BF/MyFitting/86K/Origin86K.ipynb#W6sZmlsZQ%3D%3D?line=14'>15</a>\u001b[0m data \u001b[39m=\u001b[39m {\u001b[39m'\u001b[39m\u001b[39mx\u001b[39m\u001b[39m'\u001b[39m: x, \u001b[39m'\u001b[39m\u001b[39mL1\u001b[39m\u001b[39m'\u001b[39m: L1, \u001b[39m'\u001b[39m\u001b[39mL2\u001b[39m\u001b[39m'\u001b[39m: L2, \u001b[39m'\u001b[39m\u001b[39mLsum\u001b[39m\u001b[39m'\u001b[39m: Lsum}\n\u001b[0;32m     <a href='vscode-notebook-cell:/c%3A/Users/mikku/OneDrive/%E3%83%87%E3%82%B9%E3%82%AF%E3%83%88%E3%83%83%E3%83%97/%E7%A0%94%E7%A9%B6%E5%A4%A7%E5%AD%A6%E9%99%A2/%E3%83%87%E3%83%BC%E3%82%BF/MyFitting/86K/Origin86K.ipynb#W6sZmlsZQ%3D%3D?line=15'>16</a>\u001b[0m L \u001b[39m=\u001b[39m pd\u001b[39m.\u001b[39mDataFrame(data)\n\u001b[1;32m---> <a href='vscode-notebook-cell:/c%3A/Users/mikku/OneDrive/%E3%83%87%E3%82%B9%E3%82%AF%E3%83%88%E3%83%83%E3%83%97/%E7%A0%94%E7%A9%B6%E5%A4%A7%E5%AD%A6%E9%99%A2/%E3%83%87%E3%83%BC%E3%82%BF/MyFitting/86K/Origin86K.ipynb#W6sZmlsZQ%3D%3D?line=16'>17</a>\u001b[0m L\u001b[39m.\u001b[39;49mto_csv(\u001b[39m'\u001b[39;49m\u001b[39mdata/86K_Lorentz.csv\u001b[39;49m\u001b[39m'\u001b[39;49m,index\u001b[39m=\u001b[39;49m\u001b[39mTrue\u001b[39;49;00m,sep\u001b[39m=\u001b[39;49m\u001b[39m'\u001b[39;49m\u001b[39m \u001b[39;49m\u001b[39m'\u001b[39;49m)\n\u001b[0;32m     <a href='vscode-notebook-cell:/c%3A/Users/mikku/OneDrive/%E3%83%87%E3%82%B9%E3%82%AF%E3%83%88%E3%83%83%E3%83%97/%E7%A0%94%E7%A9%B6%E5%A4%A7%E5%AD%A6%E9%99%A2/%E3%83%87%E3%83%BC%E3%82%BF/MyFitting/86K/Origin86K.ipynb#W6sZmlsZQ%3D%3D?line=18'>19</a>\u001b[0m Book3 \u001b[39m=\u001b[39m op\u001b[39m.\u001b[39mnew_book(\u001b[39m'\u001b[39m\u001b[39mw\u001b[39m\u001b[39m'\u001b[39m,\u001b[39m'\u001b[39m\u001b[39mBook3\u001b[39m\u001b[39m'\u001b[39m)                       \u001b[39m#ローレンツ関数のプロットのための新しいbookを作成\u001b[39;00m\n\u001b[0;32m     <a href='vscode-notebook-cell:/c%3A/Users/mikku/OneDrive/%E3%83%87%E3%82%B9%E3%82%AF%E3%83%88%E3%83%83%E3%83%97/%E7%A0%94%E7%A9%B6%E5%A4%A7%E5%AD%A6%E9%99%A2/%E3%83%87%E3%83%BC%E3%82%BF/MyFitting/86K/Origin86K.ipynb#W6sZmlsZQ%3D%3D?line=19'>20</a>\u001b[0m LorentzData \u001b[39m=\u001b[39m op\u001b[39m.\u001b[39mfind_sheet(\u001b[39m'\u001b[39m\u001b[39mw\u001b[39m\u001b[39m'\u001b[39m,\u001b[39m'\u001b[39m\u001b[39m[Book3]Sheet1\u001b[39m\u001b[39m'\u001b[39m)     \n",
      "File \u001b[1;32mc:\\Users\\mikku\\AppData\\Local\\Programs\\Python\\Python310\\lib\\site-packages\\pandas\\util\\_decorators.py:211\u001b[0m, in \u001b[0;36mdeprecate_kwarg.<locals>._deprecate_kwarg.<locals>.wrapper\u001b[1;34m(*args, **kwargs)\u001b[0m\n\u001b[0;32m    209\u001b[0m     \u001b[39melse\u001b[39;00m:\n\u001b[0;32m    210\u001b[0m         kwargs[new_arg_name] \u001b[39m=\u001b[39m new_arg_value\n\u001b[1;32m--> 211\u001b[0m \u001b[39mreturn\u001b[39;00m func(\u001b[39m*\u001b[39margs, \u001b[39m*\u001b[39m\u001b[39m*\u001b[39mkwargs)\n",
      "File \u001b[1;32mc:\\Users\\mikku\\AppData\\Local\\Programs\\Python\\Python310\\lib\\site-packages\\pandas\\core\\generic.py:3721\u001b[0m, in \u001b[0;36mNDFrame.to_csv\u001b[1;34m(self, path_or_buf, sep, na_rep, float_format, columns, header, index, index_label, mode, encoding, compression, quoting, quotechar, lineterminator, chunksize, date_format, doublequote, escapechar, decimal, errors, storage_options)\u001b[0m\n\u001b[0;32m   3710\u001b[0m df \u001b[39m=\u001b[39m \u001b[39mself\u001b[39m \u001b[39mif\u001b[39;00m \u001b[39misinstance\u001b[39m(\u001b[39mself\u001b[39m, ABCDataFrame) \u001b[39melse\u001b[39;00m \u001b[39mself\u001b[39m\u001b[39m.\u001b[39mto_frame()\n\u001b[0;32m   3712\u001b[0m formatter \u001b[39m=\u001b[39m DataFrameFormatter(\n\u001b[0;32m   3713\u001b[0m     frame\u001b[39m=\u001b[39mdf,\n\u001b[0;32m   3714\u001b[0m     header\u001b[39m=\u001b[39mheader,\n\u001b[1;32m   (...)\u001b[0m\n\u001b[0;32m   3718\u001b[0m     decimal\u001b[39m=\u001b[39mdecimal,\n\u001b[0;32m   3719\u001b[0m )\n\u001b[1;32m-> 3721\u001b[0m \u001b[39mreturn\u001b[39;00m DataFrameRenderer(formatter)\u001b[39m.\u001b[39;49mto_csv(\n\u001b[0;32m   3722\u001b[0m     path_or_buf,\n\u001b[0;32m   3723\u001b[0m     lineterminator\u001b[39m=\u001b[39;49mlineterminator,\n\u001b[0;32m   3724\u001b[0m     sep\u001b[39m=\u001b[39;49msep,\n\u001b[0;32m   3725\u001b[0m     encoding\u001b[39m=\u001b[39;49mencoding,\n\u001b[0;32m   3726\u001b[0m     errors\u001b[39m=\u001b[39;49merrors,\n\u001b[0;32m   3727\u001b[0m     compression\u001b[39m=\u001b[39;49mcompression,\n\u001b[0;32m   3728\u001b[0m     quoting\u001b[39m=\u001b[39;49mquoting,\n\u001b[0;32m   3729\u001b[0m     columns\u001b[39m=\u001b[39;49mcolumns,\n\u001b[0;32m   3730\u001b[0m     index_label\u001b[39m=\u001b[39;49mindex_label,\n\u001b[0;32m   3731\u001b[0m     mode\u001b[39m=\u001b[39;49mmode,\n\u001b[0;32m   3732\u001b[0m     chunksize\u001b[39m=\u001b[39;49mchunksize,\n\u001b[0;32m   3733\u001b[0m     quotechar\u001b[39m=\u001b[39;49mquotechar,\n\u001b[0;32m   3734\u001b[0m     date_format\u001b[39m=\u001b[39;49mdate_format,\n\u001b[0;32m   3735\u001b[0m     doublequote\u001b[39m=\u001b[39;49mdoublequote,\n\u001b[0;32m   3736\u001b[0m     escapechar\u001b[39m=\u001b[39;49mescapechar,\n\u001b[0;32m   3737\u001b[0m     storage_options\u001b[39m=\u001b[39;49mstorage_options,\n\u001b[0;32m   3738\u001b[0m )\n",
      "File \u001b[1;32mc:\\Users\\mikku\\AppData\\Local\\Programs\\Python\\Python310\\lib\\site-packages\\pandas\\util\\_decorators.py:211\u001b[0m, in \u001b[0;36mdeprecate_kwarg.<locals>._deprecate_kwarg.<locals>.wrapper\u001b[1;34m(*args, **kwargs)\u001b[0m\n\u001b[0;32m    209\u001b[0m     \u001b[39melse\u001b[39;00m:\n\u001b[0;32m    210\u001b[0m         kwargs[new_arg_name] \u001b[39m=\u001b[39m new_arg_value\n\u001b[1;32m--> 211\u001b[0m \u001b[39mreturn\u001b[39;00m func(\u001b[39m*\u001b[39margs, \u001b[39m*\u001b[39m\u001b[39m*\u001b[39mkwargs)\n",
      "File \u001b[1;32mc:\\Users\\mikku\\AppData\\Local\\Programs\\Python\\Python310\\lib\\site-packages\\pandas\\io\\formats\\format.py:1189\u001b[0m, in \u001b[0;36mDataFrameRenderer.to_csv\u001b[1;34m(self, path_or_buf, encoding, sep, columns, index_label, mode, compression, quoting, quotechar, lineterminator, chunksize, date_format, doublequote, escapechar, errors, storage_options)\u001b[0m\n\u001b[0;32m   1168\u001b[0m     created_buffer \u001b[39m=\u001b[39m \u001b[39mFalse\u001b[39;00m\n\u001b[0;32m   1170\u001b[0m csv_formatter \u001b[39m=\u001b[39m CSVFormatter(\n\u001b[0;32m   1171\u001b[0m     path_or_buf\u001b[39m=\u001b[39mpath_or_buf,\n\u001b[0;32m   1172\u001b[0m     lineterminator\u001b[39m=\u001b[39mlineterminator,\n\u001b[1;32m   (...)\u001b[0m\n\u001b[0;32m   1187\u001b[0m     formatter\u001b[39m=\u001b[39m\u001b[39mself\u001b[39m\u001b[39m.\u001b[39mfmt,\n\u001b[0;32m   1188\u001b[0m )\n\u001b[1;32m-> 1189\u001b[0m csv_formatter\u001b[39m.\u001b[39;49msave()\n\u001b[0;32m   1191\u001b[0m \u001b[39mif\u001b[39;00m created_buffer:\n\u001b[0;32m   1192\u001b[0m     \u001b[39massert\u001b[39;00m \u001b[39misinstance\u001b[39m(path_or_buf, StringIO)\n",
      "File \u001b[1;32mc:\\Users\\mikku\\AppData\\Local\\Programs\\Python\\Python310\\lib\\site-packages\\pandas\\io\\formats\\csvs.py:241\u001b[0m, in \u001b[0;36mCSVFormatter.save\u001b[1;34m(self)\u001b[0m\n\u001b[0;32m    237\u001b[0m \u001b[39m\"\"\"\u001b[39;00m\n\u001b[0;32m    238\u001b[0m \u001b[39mCreate the writer & save.\u001b[39;00m\n\u001b[0;32m    239\u001b[0m \u001b[39m\"\"\"\u001b[39;00m\n\u001b[0;32m    240\u001b[0m \u001b[39m# apply compression and byte/text conversion\u001b[39;00m\n\u001b[1;32m--> 241\u001b[0m \u001b[39mwith\u001b[39;00m get_handle(\n\u001b[0;32m    242\u001b[0m     \u001b[39mself\u001b[39;49m\u001b[39m.\u001b[39;49mfilepath_or_buffer,\n\u001b[0;32m    243\u001b[0m     \u001b[39mself\u001b[39;49m\u001b[39m.\u001b[39;49mmode,\n\u001b[0;32m    244\u001b[0m     encoding\u001b[39m=\u001b[39;49m\u001b[39mself\u001b[39;49m\u001b[39m.\u001b[39;49mencoding,\n\u001b[0;32m    245\u001b[0m     errors\u001b[39m=\u001b[39;49m\u001b[39mself\u001b[39;49m\u001b[39m.\u001b[39;49merrors,\n\u001b[0;32m    246\u001b[0m     compression\u001b[39m=\u001b[39;49m\u001b[39mself\u001b[39;49m\u001b[39m.\u001b[39;49mcompression,\n\u001b[0;32m    247\u001b[0m     storage_options\u001b[39m=\u001b[39;49m\u001b[39mself\u001b[39;49m\u001b[39m.\u001b[39;49mstorage_options,\n\u001b[0;32m    248\u001b[0m ) \u001b[39mas\u001b[39;00m handles:\n\u001b[0;32m    249\u001b[0m \n\u001b[0;32m    250\u001b[0m     \u001b[39m# Note: self.encoding is irrelevant here\u001b[39;00m\n\u001b[0;32m    251\u001b[0m     \u001b[39mself\u001b[39m\u001b[39m.\u001b[39mwriter \u001b[39m=\u001b[39m csvlib\u001b[39m.\u001b[39mwriter(\n\u001b[0;32m    252\u001b[0m         handles\u001b[39m.\u001b[39mhandle,\n\u001b[0;32m    253\u001b[0m         lineterminator\u001b[39m=\u001b[39m\u001b[39mself\u001b[39m\u001b[39m.\u001b[39mlineterminator,\n\u001b[1;32m   (...)\u001b[0m\n\u001b[0;32m    258\u001b[0m         quotechar\u001b[39m=\u001b[39m\u001b[39mself\u001b[39m\u001b[39m.\u001b[39mquotechar,\n\u001b[0;32m    259\u001b[0m     )\n\u001b[0;32m    261\u001b[0m     \u001b[39mself\u001b[39m\u001b[39m.\u001b[39m_save()\n",
      "File \u001b[1;32mc:\\Users\\mikku\\AppData\\Local\\Programs\\Python\\Python310\\lib\\site-packages\\pandas\\io\\common.py:735\u001b[0m, in \u001b[0;36mget_handle\u001b[1;34m(path_or_buf, mode, encoding, compression, memory_map, is_text, errors, storage_options)\u001b[0m\n\u001b[0;32m    733\u001b[0m \u001b[39m# Only for write methods\u001b[39;00m\n\u001b[0;32m    734\u001b[0m \u001b[39mif\u001b[39;00m \u001b[39m\"\u001b[39m\u001b[39mr\u001b[39m\u001b[39m\"\u001b[39m \u001b[39mnot\u001b[39;00m \u001b[39min\u001b[39;00m mode \u001b[39mand\u001b[39;00m is_path:\n\u001b[1;32m--> 735\u001b[0m     check_parent_directory(\u001b[39mstr\u001b[39;49m(handle))\n\u001b[0;32m    737\u001b[0m \u001b[39mif\u001b[39;00m compression:\n\u001b[0;32m    738\u001b[0m     \u001b[39mif\u001b[39;00m compression \u001b[39m!=\u001b[39m \u001b[39m\"\u001b[39m\u001b[39mzstd\u001b[39m\u001b[39m\"\u001b[39m:\n\u001b[0;32m    739\u001b[0m         \u001b[39m# compression libraries do not like an explicit text-mode\u001b[39;00m\n",
      "File \u001b[1;32mc:\\Users\\mikku\\AppData\\Local\\Programs\\Python\\Python310\\lib\\site-packages\\pandas\\io\\common.py:598\u001b[0m, in \u001b[0;36mcheck_parent_directory\u001b[1;34m(path)\u001b[0m\n\u001b[0;32m    596\u001b[0m parent \u001b[39m=\u001b[39m Path(path)\u001b[39m.\u001b[39mparent\n\u001b[0;32m    597\u001b[0m \u001b[39mif\u001b[39;00m \u001b[39mnot\u001b[39;00m parent\u001b[39m.\u001b[39mis_dir():\n\u001b[1;32m--> 598\u001b[0m     \u001b[39mraise\u001b[39;00m \u001b[39mOSError\u001b[39;00m(\u001b[39mrf\u001b[39m\u001b[39m\"\u001b[39m\u001b[39mCannot save file into a non-existent directory: \u001b[39m\u001b[39m'\u001b[39m\u001b[39m{\u001b[39;00mparent\u001b[39m}\u001b[39;00m\u001b[39m'\u001b[39m\u001b[39m\"\u001b[39m)\n",
      "\u001b[1;31mOSError\u001b[0m: Cannot save file into a non-existent directory: 'data'"
     ]
    }
   ],
   "source": [
    "A1  =  6856.72361  #float(input(\"Enter the value for A1: \"))\n",
    "wL1 =  13.80626    #float(input(\"Enter the value for wL1: \"))\n",
    "xc1 =  70.07065    #float(input(\"Enter the value for xc1: \"))\n",
    "A2  =  4538.93155  #float(input(\"Enter the value for A2: \"))\n",
    "wL2 =  16.28969    #float(input(\"Enter the value for wL2: \"))\n",
    "xc2 =  126.59839   #float(input(\"Enter the value for xc2: \"))\n",
    "\n",
    "def Lorentz(x,A,wL,xc):\n",
    "    return (2*A/pi)*(wL/(4*(x - xc)**2 + wL**2))     #ローレンツ関数\n",
    "\n",
    "x = np.arange(xmin,xmax)\n",
    "L1 = [Lorentz(x,A1,wL1,xc1) for x in x]\n",
    "L2 = [Lorentz(x,A2,wL2,xc2) for x in x]\n",
    "Lsum = [L1[i]+L2[i] for i in range(len(L1))]\n",
    "data = {'x': x, 'L1': L1, 'L2': L2, 'Lsum': Lsum}\n",
    "L = pd.DataFrame(data)\n",
    "L.to_csv('data/86K_Lorentz.csv',index=True,sep=' ')\n",
    "\n",
    "Book3 = op.new_book('w','Book3')                       #ローレンツ関数のプロットのための新しいbookを作成\n",
    "LorentzData = op.find_sheet('w','[Book3]Sheet1')     \n",
    "LorentzData.name = 'LorentzData'\n",
    "LorentzData.from_df(L)\n",
    "\n",
    "op.new_graph('LorentzGraph')                             #フォークト関数から抽出したLorentz関数のグラフを作成\n",
    "LorentzGraph = op.find_graph('LorentzGraph')\n",
    "LorentzGraph[0].add_plot(obj=LorentzData,colx=0,coly='Lsum')\n",
    "LorentzGraph[0].rescale()"
   ]
  },
  {
   "cell_type": "code",
   "execution_count": null,
   "metadata": {},
   "outputs": [],
   "source": [
    "# Exit running instance of Origin.\n",
    "# 終了させるときに実行する．\n",
    "if op.oext:\n",
    "    op.exit()"
   ]
  }
 ],
 "metadata": {
  "kernelspec": {
   "display_name": "Python 3",
   "language": "python",
   "name": "python3"
  },
  "language_info": {
   "codemirror_mode": {
    "name": "ipython",
    "version": 3
   },
   "file_extension": ".py",
   "mimetype": "text/x-python",
   "name": "python",
   "nbconvert_exporter": "python",
   "pygments_lexer": "ipython3",
   "version": "3.10.7"
  },
  "orig_nbformat": 4
 },
 "nbformat": 4,
 "nbformat_minor": 2
}
