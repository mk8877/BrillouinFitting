{
 "cells": [
  {
   "attachments": {},
   "cell_type": "markdown",
   "metadata": {},
   "source": [
    "このプログラムではではoriginの制御を行います"
   ]
  },
  {
   "cell_type": "code",
   "execution_count": 1,
   "metadata": {},
   "outputs": [],
   "source": [
    "import originpro as op\n",
    "import pandas as pd\n",
    "import numpy as np\n",
    "from math import *\n",
    "#おまじない\n",
    "# Ensures that the Origin instance gets shut down properly.\n",
    "import sys\n",
    "def origin_shutdown_exception_hook(exctype, value, traceback):\n",
    "    op.exit()\n",
    "    sys.__excepthook__(exctype, value, traceback)\n",
    "if op and op.oext:\n",
    "    sys.excepthook = origin_shutdown_exception_hook\n",
    "\n",
    "\n",
    "# Set Origin instance visibility.\n",
    "if op.oext:\n",
    "    op.set_show(True)\n"
   ]
  },
  {
   "cell_type": "code",
   "execution_count": 2,
   "metadata": {},
   "outputs": [],
   "source": [
    "xmin = 30\n",
    "xmax = 210#ローレンツ関数の範囲"
   ]
  },
  {
   "cell_type": "code",
   "execution_count": 3,
   "metadata": {},
   "outputs": [
    {
     "name": "stdout",
     "output_type": "stream",
     "text": [
      "FWHM =  2.79451994824251\n"
     ]
    },
    {
     "data": {
      "text/plain": [
       "(-5.0, 5.0, 2.0)"
      ]
     },
     "execution_count": 3,
     "metadata": {},
     "output_type": "execute_result"
    }
   ],
   "source": [
    "\n",
    "# YOUR CODE HERE\n",
    "#Book1を選択した状態で実行\n",
    "#open origin file\n",
    "op.open(file='C:/Users/mikku/OneDrive/デスクトップ/研究大学院/解析/BrilluinFitting/116K/data116K.opju')\n",
    "BrillouinData = op.find_sheet('w','[Book1]Sheet1') #get sheet\n",
    "# fit by Gaussamp\n",
    "GaussFit = op.NLFit('Gaussamp')\n",
    "GaussFit.set_data(BrillouinData,0,1)\n",
    "GaussFit.fit()\n",
    "#GaussFit.param_box()                 #収束の確認\n",
    "GaussFit.report()                     #レポートの表示\n",
    "GaussData = op.find_sheet('w','[Book1]FitNL1') #GaussFitのsheetを取得\n",
    "param = GaussFit.result()             #各パラメーターの表示\n",
    "FWHM = param['FWHM']                  #FWHMの値を取得\n",
    "print('FWHM = ',FWHM)\n",
    "\n",
    "op.new_graph('GaussGraph')            #Gaussamp用のグラフを作成．[0],[1]がlayer\n",
    "GaussGraph = op.find_graph('GaussGraph')\n",
    "GaussGraph[0].add_plot(obj=BrillouinData,colx=0,coly=1)#add_plotはlayerに対してのobject\n",
    "GaussGraph[0].add_plot(obj=GaussData,colx=0,coly=1).color = 'red'\n",
    "GaussGraph[0].rescale()               #実際に描写する.必ずset_limの前に置く\n",
    "GaussGraph[0].set_xlim(-5,5)          #(min,max,メモリの刻み)を返す"
   ]
  },
  {
   "cell_type": "code",
   "execution_count": 4,
   "metadata": {},
   "outputs": [],
   "source": [
    "#voigt関数でfitし，lorentz関数を抽出\n",
    "Book2 = op.new_book('w','Book2')                       #新しいbookを作成\n",
    "Brillouin_lim = op.find_sheet('w','[Book2]Sheet1')     \n",
    "Brillouin_lim.name = 'Brillouin_lim'\n",
    "\n",
    "df = BrillouinData.to_df()                             #dfに変換\n",
    "df = df[(df['A']>xmin) & (df['A']<xmax)]                  #範囲を選択.&じゃないとダメみたい\n",
    "Brillouin_lim.from_df(df)                              #dfをsheetに変換\n",
    "\n",
    "op.new_graph('VoigtGraph')                             #Voigt用のグラフを作成\n",
    "VoigtGraph = op.find_graph('VoigtGraph')\n",
    "VoigtGraph[0].add_plot(obj=Brillouin_lim,colx=0,coly=1)\n",
    "VoigtGraph[0].rescale()"
   ]
  },
  {
   "attachments": {},
   "cell_type": "markdown",
   "metadata": {},
   "source": [
    "######複数ピークフィットはできないので手動でvoigt関数でフィットしよう#########"
   ]
  },
  {
   "cell_type": "code",
   "execution_count": 2,
   "metadata": {},
   "outputs": [],
   "source": [
    "import pandas as pd\n",
    "import numpy as np\n",
    "from math import *\n",
    "A1  =   22021.46652#float(input(\"Enter the value for A1: \"))  #\n",
    "wL1 =   10.17726#float(input(\"Enter the value for wL1: \")) #\n",
    "xc1 =   51.6797#float(input(\"Enter the value for xc1: \")) #\n",
    "A2  =   6523.37662#float(input(\"Enter the value for A2: \"))  #\n",
    "wL2 =   28.48338#float(input(\"Enter the value for wL2: \")) #\n",
    "xc2 =   164.34294#float(input(\"Enter the value for xc2: \")) #\n",
    "\n",
    "def Lorentz(x,A,wL,xc):\n",
    "    return (2*A/pi)*(wL/(4*(x - xc)**2 + wL**2))     #ローレンツ関数\n",
    "\n",
    "x = np.arange(0,300)\n",
    "L1 = [Lorentz(x,A1,wL1,xc1) for x in x]\n",
    "L2 = [Lorentz(x,A2,wL2,xc2) for x in x]\n",
    "Lsum = [L1[i]+L2[i] for i in range(len(L1))]\n",
    "data = {'x': x, 'L1': L1, 'L2': L2, 'Lsum': Lsum}\n",
    "L = pd.DataFrame(data)\n",
    "L.to_csv('116K_Lorentz.csv',index=True,sep=' ')\n"
   ]
  },
  {
   "cell_type": "code",
   "execution_count": null,
   "metadata": {},
   "outputs": [],
   "source": [
    "\n",
    "Book3 = op.new_book('w','Book3')                       #ローレンツ関数のプロットのための新しいbookを作成\n",
    "LorentzData = op.find_sheet('w','[Book3]Sheet1')     \n",
    "LorentzData.name = 'LorentzData'\n",
    "LorentzData.from_df(L)\n",
    "\n",
    "op.new_graph('LorentzGraph')                             #フォークト関数から抽出したLorentz関数のグラフを作成\n",
    "LorentzGraph = op.find_graph('LorentzGraph')\n",
    "LorentzGraph[0].add_plot(obj=LorentzData,colx=0,coly='Lsum')\n",
    "LorentzGraph[0].rescale()"
   ]
  },
  {
   "cell_type": "code",
   "execution_count": 1,
   "metadata": {},
   "outputs": [
    {
     "ename": "NameError",
     "evalue": "name 'op' is not defined",
     "output_type": "error",
     "traceback": [
      "\u001b[1;31m---------------------------------------------------------------------------\u001b[0m",
      "\u001b[1;31mNameError\u001b[0m                                 Traceback (most recent call last)",
      "\u001b[1;32mc:\\Users\\mikku\\OneDrive\\デスクトップ\\研究大学院\\解析\\BrilluinFitting\\116K\\Origin116K.ipynb セル 8\u001b[0m in \u001b[0;36m3\n\u001b[0;32m      <a href='vscode-notebook-cell:/c%3A/Users/mikku/OneDrive/%E3%83%87%E3%82%B9%E3%82%AF%E3%83%88%E3%83%83%E3%83%97/%E7%A0%94%E7%A9%B6%E5%A4%A7%E5%AD%A6%E9%99%A2/%E8%A7%A3%E6%9E%90/BrilluinFitting/116K/Origin116K.ipynb#X10sZmlsZQ%3D%3D?line=0'>1</a>\u001b[0m \u001b[39m# Exit running instance of Origin.\u001b[39;00m\n\u001b[0;32m      <a href='vscode-notebook-cell:/c%3A/Users/mikku/OneDrive/%E3%83%87%E3%82%B9%E3%82%AF%E3%83%88%E3%83%83%E3%83%97/%E7%A0%94%E7%A9%B6%E5%A4%A7%E5%AD%A6%E9%99%A2/%E8%A7%A3%E6%9E%90/BrilluinFitting/116K/Origin116K.ipynb#X10sZmlsZQ%3D%3D?line=1'>2</a>\u001b[0m \u001b[39m# 終了させるときに実行する．\u001b[39;00m\n\u001b[1;32m----> <a href='vscode-notebook-cell:/c%3A/Users/mikku/OneDrive/%E3%83%87%E3%82%B9%E3%82%AF%E3%83%88%E3%83%83%E3%83%97/%E7%A0%94%E7%A9%B6%E5%A4%A7%E5%AD%A6%E9%99%A2/%E8%A7%A3%E6%9E%90/BrilluinFitting/116K/Origin116K.ipynb#X10sZmlsZQ%3D%3D?line=2'>3</a>\u001b[0m \u001b[39mif\u001b[39;00m op\u001b[39m.\u001b[39moext:\n\u001b[0;32m      <a href='vscode-notebook-cell:/c%3A/Users/mikku/OneDrive/%E3%83%87%E3%82%B9%E3%82%AF%E3%83%88%E3%83%83%E3%83%97/%E7%A0%94%E7%A9%B6%E5%A4%A7%E5%AD%A6%E9%99%A2/%E8%A7%A3%E6%9E%90/BrilluinFitting/116K/Origin116K.ipynb#X10sZmlsZQ%3D%3D?line=3'>4</a>\u001b[0m     op\u001b[39m.\u001b[39mexit()\n",
      "\u001b[1;31mNameError\u001b[0m: name 'op' is not defined"
     ]
    }
   ],
   "source": [
    "# Exit running instance of Origin.\n",
    "# 終了させるときに実行する．\n",
    "if op.oext:\n",
    "    op.exit()"
   ]
  }
 ],
 "metadata": {
  "kernelspec": {
   "display_name": "Python 3",
   "language": "python",
   "name": "python3"
  },
  "language_info": {
   "codemirror_mode": {
    "name": "ipython",
    "version": 3
   },
   "file_extension": ".py",
   "mimetype": "text/x-python",
   "name": "python",
   "nbconvert_exporter": "python",
   "pygments_lexer": "ipython3",
   "version": "3.10.7"
  },
  "orig_nbformat": 4
 },
 "nbformat": 4,
 "nbformat_minor": 2
}
