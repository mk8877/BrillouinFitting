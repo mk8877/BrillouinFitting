{
 "cells": [
  {
   "attachments": {},
   "cell_type": "markdown",
   "metadata": {},
   "source": [
    "このプログラムではではoriginの制御を行います"
   ]
  },
  {
   "cell_type": "code",
   "execution_count": 24,
   "metadata": {},
   "outputs": [],
   "source": [
    "import originpro as op\n",
    "import pandas as pd\n",
    "import numpy as np\n",
    "from math import *\n",
    "#おまじない\n",
    "# Ensures that the Origin instance gets shut down properly.\n",
    "import sys\n",
    "def origin_shutdown_exception_hook(exctype, value, traceback):\n",
    "    op.exit()\n",
    "    sys.__excepthook__(exctype, value, traceback)\n",
    "if op and op.oext:\n",
    "    sys.excepthook = origin_shutdown_exception_hook\n",
    "\n",
    "\n",
    "# Set Origin instance visibility.\n",
    "if op.oext:\n",
    "    op.set_show(True)\n"
   ]
  },
  {
   "cell_type": "code",
   "execution_count": 25,
   "metadata": {},
   "outputs": [],
   "source": [
    "xmin = 19\n",
    "xmax = 180"
   ]
  },
  {
   "cell_type": "code",
   "execution_count": 26,
   "metadata": {},
   "outputs": [
    {
     "name": "stdout",
     "output_type": "stream",
     "text": [
      "FWHM =  2.09350951895391\n"
     ]
    },
    {
     "data": {
      "text/plain": [
       "(-5.0, 5.0, 100.0)"
      ]
     },
     "execution_count": 26,
     "metadata": {},
     "output_type": "execute_result"
    }
   ],
   "source": [
    "\n",
    "# YOUR CODE HERE\n",
    "#Book1を選択した状態で実行\n",
    "#open origin file\n",
    "op.open(file='C:/Users/mikku/OneDrive/デスクトップ/研究大学院/解析/BrilluinFitting/data/data86K.opju')\n",
    "BrillouinData = op.find_sheet('w','[Book1]BrillouinData') #get sheet\n",
    "BrillouinData.name = 'BrillouinData'\n",
    "# fit by Gaussamp\n",
    "GaussFit = op.NLFit('Gaussamp')\n",
    "GaussFit.set_data(BrillouinData,0,1)\n",
    "GaussFit.fit()\n",
    "#GaussFit.param_box()                 #収束の確認\n",
    "GaussFit.report()                     #レポートの表示\n",
    "GaussData = op.find_sheet('w','[Book1]FitNLCurve1') #GaussFitのsheetを取得\n",
    "GaussData.name = 'GaussData'          #sheetの名前を変更\n",
    "param = GaussFit.result()             #各パラメーターの表示\n",
    "FWHM = param['FWHM']                  #FWHMの値を取得\n",
    "print('FWHM = ',FWHM)\n",
    "\n",
    "op.new_graph('GaussGraph')            #Gaussamp用のグラフを作成．[0],[1]がlayer\n",
    "GaussGraph = op.find_graph('GaussGraph')\n",
    "GaussGraph[0].add_plot(obj=BrillouinData,colx=0,coly=1)#add_plotはlayerに対してのobject\n",
    "GaussGraph[0].add_plot(obj=GaussData,colx=0,coly=1).color = 'red'\n",
    "GaussGraph[0].rescale()               #実際に描写する.必ずset_limの前に置く\n",
    "GaussGraph[0].set_xlim(-5,5)          #(min,max,メモリの刻み)を返す"
   ]
  },
  {
   "cell_type": "code",
   "execution_count": 27,
   "metadata": {},
   "outputs": [
    {
     "ename": "AttributeError",
     "evalue": "'NoneType' object has no attribute 'name'",
     "output_type": "error",
     "traceback": [
      "\u001b[1;31m---------------------------------------------------------------------------\u001b[0m",
      "\u001b[1;31mAttributeError\u001b[0m                            Traceback (most recent call last)",
      "\u001b[1;32mc:\\Users\\mikku\\OneDrive\\デスクトップ\\研究大学院\\解析\\BrilluinFitting\\86K\\Origin86K.ipynb セル 5\u001b[0m in \u001b[0;36m4\n\u001b[0;32m      <a href='vscode-notebook-cell:/c%3A/Users/mikku/OneDrive/%E3%83%87%E3%82%B9%E3%82%AF%E3%83%88%E3%83%83%E3%83%97/%E7%A0%94%E7%A9%B6%E5%A4%A7%E5%AD%A6%E9%99%A2/%E8%A7%A3%E6%9E%90/BrilluinFitting/86K/Origin86K.ipynb#W4sZmlsZQ%3D%3D?line=1'>2</a>\u001b[0m Book2 \u001b[39m=\u001b[39m op\u001b[39m.\u001b[39mnew_book(\u001b[39m'\u001b[39m\u001b[39mw\u001b[39m\u001b[39m'\u001b[39m,\u001b[39m'\u001b[39m\u001b[39mBook2\u001b[39m\u001b[39m'\u001b[39m)                       \u001b[39m#新しいbookを作成\u001b[39;00m\n\u001b[0;32m      <a href='vscode-notebook-cell:/c%3A/Users/mikku/OneDrive/%E3%83%87%E3%82%B9%E3%82%AF%E3%83%88%E3%83%83%E3%83%97/%E7%A0%94%E7%A9%B6%E5%A4%A7%E5%AD%A6%E9%99%A2/%E8%A7%A3%E6%9E%90/BrilluinFitting/86K/Origin86K.ipynb#W4sZmlsZQ%3D%3D?line=2'>3</a>\u001b[0m Brillouin_lim \u001b[39m=\u001b[39m op\u001b[39m.\u001b[39mfind_sheet(\u001b[39m'\u001b[39m\u001b[39mw\u001b[39m\u001b[39m'\u001b[39m,\u001b[39m'\u001b[39m\u001b[39m[Book2]Sheet1\u001b[39m\u001b[39m'\u001b[39m)     \n\u001b[1;32m----> <a href='vscode-notebook-cell:/c%3A/Users/mikku/OneDrive/%E3%83%87%E3%82%B9%E3%82%AF%E3%83%88%E3%83%83%E3%83%97/%E7%A0%94%E7%A9%B6%E5%A4%A7%E5%AD%A6%E9%99%A2/%E8%A7%A3%E6%9E%90/BrilluinFitting/86K/Origin86K.ipynb#W4sZmlsZQ%3D%3D?line=3'>4</a>\u001b[0m Brillouin_lim\u001b[39m.\u001b[39;49mname \u001b[39m=\u001b[39m \u001b[39m'\u001b[39m\u001b[39mBrillouin_lim\u001b[39m\u001b[39m'\u001b[39m\n\u001b[0;32m      <a href='vscode-notebook-cell:/c%3A/Users/mikku/OneDrive/%E3%83%87%E3%82%B9%E3%82%AF%E3%83%88%E3%83%83%E3%83%97/%E7%A0%94%E7%A9%B6%E5%A4%A7%E5%AD%A6%E9%99%A2/%E8%A7%A3%E6%9E%90/BrilluinFitting/86K/Origin86K.ipynb#W4sZmlsZQ%3D%3D?line=5'>6</a>\u001b[0m df \u001b[39m=\u001b[39m BrillouinData\u001b[39m.\u001b[39mto_df()                             \u001b[39m#dfに変換\u001b[39;00m\n\u001b[0;32m      <a href='vscode-notebook-cell:/c%3A/Users/mikku/OneDrive/%E3%83%87%E3%82%B9%E3%82%AF%E3%83%88%E3%83%83%E3%83%97/%E7%A0%94%E7%A9%B6%E5%A4%A7%E5%AD%A6%E9%99%A2/%E8%A7%A3%E6%9E%90/BrilluinFitting/86K/Origin86K.ipynb#W4sZmlsZQ%3D%3D?line=6'>7</a>\u001b[0m df \u001b[39m=\u001b[39m df[(df[\u001b[39m'\u001b[39m\u001b[39mA\u001b[39m\u001b[39m'\u001b[39m]\u001b[39m>\u001b[39mxmin) \u001b[39m&\u001b[39m (df[\u001b[39m'\u001b[39m\u001b[39mA\u001b[39m\u001b[39m'\u001b[39m]\u001b[39m<\u001b[39mxmax)]                  \u001b[39m#範囲を選択.&じゃないとダメみたい\u001b[39;00m\n",
      "\u001b[1;31mAttributeError\u001b[0m: 'NoneType' object has no attribute 'name'"
     ]
    }
   ],
   "source": [
    "#voigt関数でfitし，lorentz関数を抽出\n",
    "Book2 = op.new_book('w','Book2')                       #新しいbookを作成\n",
    "Brillouin_lim = op.find_sheet('w','[Book2]Sheet1')     \n",
    "Brillouin_lim.name = 'Brillouin_lim'\n",
    "\n",
    "df = BrillouinData.to_df()                             #dfに変換\n",
    "df = df[(df['A']>xmin) & (df['A']<xmax)]                  #範囲を選択.&じゃないとダメみたい\n",
    "Brillouin_lim.from_df(df)                              #dfをsheetに変換\n",
    "\n",
    "op.new_graph('VoigtGraph')                             #Voigt用のグラフを作成\n",
    "VoigtGraph = op.find_graph('VoigtGraph')\n",
    "VoigtGraph[0].add_plot(obj=Brillouin_lim,colx=0,coly=1)\n",
    "VoigtGraph[0].rescale()"
   ]
  },
  {
   "attachments": {},
   "cell_type": "markdown",
   "metadata": {},
   "source": [
    "######複数ピークフィットはできないので手動でvoigt関数でフィットしよう#########"
   ]
  },
  {
   "cell_type": "code",
   "execution_count": 30,
   "metadata": {},
   "outputs": [],
   "source": [
    "import pandas as pd\n",
    "import numpy as np\n",
    "from math import *\n",
    "\n",
    "A1  =  6856.72361  #float(input(\"Enter the value for A1: \"))\n",
    "wL1 =  13.80626    #float(input(\"Enter the value for wL1: \"))\n",
    "xc1 =  70.07065    #float(input(\"Enter the value for xc1: \"))\n",
    "A2  =  4538.93155  #float(input(\"Enter the value for A2: \"))\n",
    "wL2 =  16.28969    #float(input(\"Enter the value for wL2: \"))\n",
    "xc2 =  126.59839   #float(input(\"Enter the value for xc2: \"))\n",
    "\n",
    "def Lorentz(x,A,wL,xc):\n",
    "    return (2*A/pi)*(wL/(4*(x - xc)**2 + wL**2))     #ローレンツ関数\n",
    "\n",
    "x = np.arange(0,300)\n",
    "L1 = [Lorentz(x,A1,wL1,xc1) for x in x]\n",
    "L2 = [Lorentz(x,A2,wL2,xc2) for x in x]\n",
    "Lsum = [L1[i]+L2[i] for i in range(len(L1))]\n",
    "data = {'x': x, 'L1': L1, 'L2': L2, 'Lsum': Lsum}\n",
    "L = pd.DataFrame(data)\n",
    "L.to_csv('86K_Lorentz.csv',index=True,sep=' ')\n"
   ]
  },
  {
   "cell_type": "code",
   "execution_count": null,
   "metadata": {},
   "outputs": [],
   "source": [
    "\n",
    "Book3 = op.new_book('w','Book3')                       #ローレンツ関数のプロットのための新しいbookを作成\n",
    "LorentzData = op.find_sheet('w','[Book3]Sheet1')     \n",
    "LorentzData.name = 'LorentzData'\n",
    "LorentzData.from_df(L)\n",
    "\n",
    "op.new_graph('LorentzGraph')                             #フォークト関数から抽出したLorentz関数のグラフを作成\n",
    "LorentzGraph = op.find_graph('LorentzGraph')\n",
    "LorentzGraph[0].add_plot(obj=LorentzData,colx=0,coly='Lsum')\n",
    "LorentzGraph[0].rescale()"
   ]
  },
  {
   "cell_type": "code",
   "execution_count": null,
   "metadata": {},
   "outputs": [],
   "source": [
    "# Exit running instance of Origin.\n",
    "# 終了させるときに実行する．\n",
    "if op.oext:\n",
    "    op.exit()"
   ]
  }
 ],
 "metadata": {
  "kernelspec": {
   "display_name": "Python 3",
   "language": "python",
   "name": "python3"
  },
  "language_info": {
   "codemirror_mode": {
    "name": "ipython",
    "version": 3
   },
   "file_extension": ".py",
   "mimetype": "text/x-python",
   "name": "python",
   "nbconvert_exporter": "python",
   "pygments_lexer": "ipython3",
   "version": "3.10.7"
  },
  "orig_nbformat": 4
 },
 "nbformat": 4,
 "nbformat_minor": 2
}
